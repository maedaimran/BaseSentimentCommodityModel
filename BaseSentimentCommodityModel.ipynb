{
  "nbformat": 4,
  "nbformat_minor": 0,
  "metadata": {
    "colab": {
      "provenance": [],
      "gpuType": "T4",
      "include_colab_link": true
    },
    "kernelspec": {
      "name": "python3",
      "display_name": "Python 3"
    },
    "language_info": {
      "name": "python"
    },
    "accelerator": "GPU"
  },
  "cells": [
    {
      "cell_type": "markdown",
      "metadata": {
        "id": "view-in-github",
        "colab_type": "text"
      },
      "source": [
        "<a href=\"https://colab.research.google.com/github/maedaimran/BaseSentimentCommodityModel/blob/main/BaseSentimentCommodityModel.ipynb\" target=\"_parent\"><img src=\"https://colab.research.google.com/assets/colab-badge.svg\" alt=\"Open In Colab\"/></a>"
      ]
    },
    {
      "cell_type": "code",
      "execution_count": null,
      "metadata": {
        "id": "J4AKD2IwjBOz",
        "colab": {
          "base_uri": "https://localhost:8080/"
        },
        "outputId": "b2e3ebc1-2436-41d6-effe-44fb82eba1d7"
      },
      "outputs": [
        {
          "output_type": "stream",
          "name": "stdout",
          "text": [
            "Collecting praw\n",
            "  Downloading praw-7.7.1-py3-none-any.whl (191 kB)\n",
            "\u001b[2K     \u001b[90m━━━━━━━━━━━━━━━━━━━━━━━━━━━━━━━━━━━━━━━━\u001b[0m \u001b[32m191.0/191.0 kB\u001b[0m \u001b[31m3.6 MB/s\u001b[0m eta \u001b[36m0:00:00\u001b[0m\n",
            "\u001b[?25hCollecting prawcore<3,>=2.1 (from praw)\n",
            "  Downloading prawcore-2.4.0-py3-none-any.whl (17 kB)\n",
            "Collecting update-checker>=0.18 (from praw)\n",
            "  Downloading update_checker-0.18.0-py3-none-any.whl (7.0 kB)\n",
            "Requirement already satisfied: websocket-client>=0.54.0 in /usr/local/lib/python3.10/dist-packages (from praw) (1.7.0)\n",
            "Requirement already satisfied: requests<3.0,>=2.6.0 in /usr/local/lib/python3.10/dist-packages (from prawcore<3,>=2.1->praw) (2.31.0)\n",
            "Requirement already satisfied: charset-normalizer<4,>=2 in /usr/local/lib/python3.10/dist-packages (from requests<3.0,>=2.6.0->prawcore<3,>=2.1->praw) (3.3.2)\n",
            "Requirement already satisfied: idna<4,>=2.5 in /usr/local/lib/python3.10/dist-packages (from requests<3.0,>=2.6.0->prawcore<3,>=2.1->praw) (3.6)\n",
            "Requirement already satisfied: urllib3<3,>=1.21.1 in /usr/local/lib/python3.10/dist-packages (from requests<3.0,>=2.6.0->prawcore<3,>=2.1->praw) (2.0.7)\n",
            "Requirement already satisfied: certifi>=2017.4.17 in /usr/local/lib/python3.10/dist-packages (from requests<3.0,>=2.6.0->prawcore<3,>=2.1->praw) (2024.2.2)\n",
            "Installing collected packages: update-checker, prawcore, praw\n",
            "Successfully installed praw-7.7.1 prawcore-2.4.0 update-checker-0.18.0\n"
          ]
        }
      ],
      "source": [
        "# Install libraries\n",
        "#pip install -q transformers\n",
        "!pip install praw"
      ]
    },
    {
      "cell_type": "code",
      "source": [
        "# Import HuggingFace model\n",
        "\n",
        "from transformers import pipeline\n",
        "sentiment_pipeline = pipeline(\"sentiment-analysis\", model=\"mrm8488/distilroberta-finetuned-financial-news-sentiment-analysis\")"
      ],
      "metadata": {
        "id": "9Ul5KHwQjd_M"
      },
      "execution_count": null,
      "outputs": []
    },
    {
      "cell_type": "code",
      "source": [
        "import praw\n",
        "\n",
        "reddit = praw.Reddit(\n",
        "    client_id=\"In7QBnQbPSu1m-ljJdOUxg\",\n",
        "    client_secret=\"tINw_l8alZbbrFANJrTaNY8kl2RGJA\",\n",
        "    user_agent=\"algoadproject1\",\n",
        ")"
      ],
      "metadata": {
        "id": "jmZV4zXrlByK"
      },
      "execution_count": null,
      "outputs": []
    },
    {
      "cell_type": "code",
      "source": [
        "subreddit = reddit.subreddit(\"worldnews\")\n",
        "print(subreddit.display_name)"
      ],
      "metadata": {
        "colab": {
          "base_uri": "https://localhost:8080/"
        },
        "id": "oleu_idEtA5R",
        "outputId": "2521b530-3edd-4899-9883-a148846b91eb"
      },
      "execution_count": null,
      "outputs": [
        {
          "output_type": "stream",
          "name": "stdout",
          "text": [
            "worldnews\n"
          ]
        }
      ]
    },
    {
      "cell_type": "code",
      "source": [
        "# Get post objects into a list\n",
        "submissions = []\n",
        "for submission in reddit.subreddit(\"worldnews\").search(\"oil\", sort=\"relevance\", time_filter=\"month\", limit=5):\n",
        "    print(submission.title)\n",
        "    submissions.append(submission)\n",
        "    #for top_level_comment in submission.comments:\n",
        "      #print(top_level_comment.body)"
      ],
      "metadata": {
        "colab": {
          "base_uri": "https://localhost:8080/"
        },
        "id": "mXG1yTilssKj",
        "outputId": "dc347ceb-4e8e-4798-cad1-8256939e16a2"
      },
      "execution_count": null,
      "outputs": [
        {
          "output_type": "stream",
          "name": "stderr",
          "text": [
            "WARNING:praw:It appears that you are using PRAW in an asynchronous environment.\n",
            "It is strongly recommended to use Async PRAW: https://asyncpraw.readthedocs.io.\n",
            "See https://praw.readthedocs.io/en/latest/getting_started/multiple_instances.html#discord-bots-and-asynchronous-environments for more info.\n",
            "\n"
          ]
        },
        {
          "output_type": "stream",
          "name": "stdout",
          "text": [
            "Iran orders confiscation of U.S. oil cargo from seized tanker\n",
            "Ukraine drones hit Russia's Syzran oil refinery, governor says\n",
            "US sanctions to damage India’s oil supply from Russia\n",
            "Chinese-owned oil tanker hit by Houthi missiles in Red Sea\n",
            "Ukrainian drones damage Russian oil refineries in second day of attacks\n"
          ]
        }
      ]
    },
    {
      "cell_type": "code",
      "source": [
        "# Get first comment from the first post collected\n",
        "submission = submissions[0]\n",
        "\n",
        "submission.comments.replace_more(limit=0)\n",
        "comments = submission.comments.list()\n",
        "\n",
        "comment = comments[0].body\n",
        "print(comment)"
      ],
      "metadata": {
        "colab": {
          "base_uri": "https://localhost:8080/"
        },
        "id": "N9G-XELZv2lP",
        "outputId": "dbf2b310-55b6-4c60-c200-cb8800ce655a"
      },
      "execution_count": null,
      "outputs": [
        {
          "output_type": "stream",
          "name": "stderr",
          "text": [
            "WARNING:praw:It appears that you are using PRAW in an asynchronous environment.\n",
            "It is strongly recommended to use Async PRAW: https://asyncpraw.readthedocs.io.\n",
            "See https://praw.readthedocs.io/en/latest/getting_started/multiple_instances.html#discord-bots-and-asynchronous-environments for more info.\n",
            "\n"
          ]
        },
        {
          "output_type": "stream",
          "name": "stdout",
          "text": [
            "I don't think the US is going to like that.\n"
          ]
        }
      ]
    },
    {
      "cell_type": "code",
      "source": [
        "# Analyze sentiment\n",
        "sentiment_pipeline(comment)"
      ],
      "metadata": {
        "colab": {
          "base_uri": "https://localhost:8080/"
        },
        "id": "G7EPtNmazFBf",
        "outputId": "bea04611-ede1-4a16-bd09-c053971efb01"
      },
      "execution_count": null,
      "outputs": [
        {
          "output_type": "execute_result",
          "data": {
            "text/plain": [
              "[{'label': 'neutral', 'score': 0.9987978935241699}]"
            ]
          },
          "metadata": {},
          "execution_count": 10
        }
      ]
    },
    {
      "cell_type": "code",
      "source": [
        "positive_count = 0\n",
        "negative_count = 0\n",
        "\n",
        "for i in range(len(comments)):\n",
        "    result = sentiment_pipeline(comments[i].body)\n",
        "\n",
        "    # Assuming the result is always a list with a dictionary\n",
        "    if result and isinstance(result, list) and len(result) > 0:\n",
        "        label = result[0].get('label', '')\n",
        "\n",
        "        if label == 'POSITIVE':\n",
        "            positive_count += 1\n",
        "        elif label == 'NEGATIVE':\n",
        "            negative_count += 1\n",
        "\n",
        "print(\"Positive count:\", positive_count)\n",
        "print(\"Negative count:\", negative_count)"
      ],
      "metadata": {
        "colab": {
          "base_uri": "https://localhost:8080/"
        },
        "id": "rOy9pfnePD2M",
        "outputId": "ccd7e4ba-adf8-43bf-b875-319806d629f5"
      },
      "execution_count": null,
      "outputs": [
        {
          "output_type": "stream",
          "name": "stdout",
          "text": [
            "Positive count: 0\n",
            "Negative count: 0\n"
          ]
        }
      ]
    },
    {
      "cell_type": "code",
      "source": [
        "import yfinance as yf\n",
        "import datetime\n",
        "\n",
        "# Ticker symbol for United States Oil Fund (USO)\n",
        "ticker_symbol = \"USO\"\n",
        "\n",
        "# Start and end dates for historical data\n",
        "start_date = \"2024-03-11\"\n",
        "end_date = \"2024-03-12\"\n",
        "\n",
        "# Fetch historical data\n",
        "data = yf.download(ticker_symbol, start=start_date, end=end_date)\n",
        "\n",
        "# Print the historical data\n",
        "print(data)"
      ],
      "metadata": {
        "colab": {
          "base_uri": "https://localhost:8080/"
        },
        "id": "PGwZWLqOPEg4",
        "outputId": "28e1bf88-ec1f-4d40-e9ae-c6d832c25fd1"
      },
      "execution_count": null,
      "outputs": [
        {
          "output_type": "stream",
          "name": "stderr",
          "text": [
            "\r[*********************100%%**********************]  1 of 1 completed"
          ]
        },
        {
          "output_type": "stream",
          "name": "stdout",
          "text": [
            "                 Open       High        Low      Close  Adj Close   Volume\n",
            "Date                                                                      \n",
            "2024-03-11  72.970001  73.900002  72.370003  73.620003  73.620003  3072600\n"
          ]
        },
        {
          "output_type": "stream",
          "name": "stderr",
          "text": [
            "\n"
          ]
        }
      ]
    }
  ]
}